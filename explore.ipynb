{
 "cells": [
  {
   "cell_type": "code",
   "execution_count": 9,
   "outputs": [],
   "source": [
    "import json\n",
    "import folium\n",
    "from folium.plugins import MarkerCluster, TagFilterButton\n",
    "import os\n",
    "from pathlib import Path"
   ],
   "metadata": {
    "collapsed": false,
    "ExecuteTime": {
     "end_time": "2023-12-29T21:22:49.283734529Z",
     "start_time": "2023-12-29T21:22:49.279261354Z"
    }
   },
   "id": "ac30eb3e4d49918e"
  },
  {
   "cell_type": "code",
   "execution_count": 7,
   "outputs": [
    {
     "data": {
      "text/plain": "<folium.folium.Map at 0x7f0df58d6650>",
      "text/html": "<div style=\"width:100%;\"><div style=\"position:relative;width:100%;height:0;padding-bottom:60%;\"><span style=\"color:#565656\">Make this Notebook Trusted to load map: File -> Trust Notebook</span><iframe srcdoc=\"&lt;!DOCTYPE html&gt;\n&lt;html&gt;\n&lt;head&gt;\n    \n    &lt;meta http-equiv=&quot;content-type&quot; content=&quot;text/html; charset=UTF-8&quot; /&gt;\n    \n        &lt;script&gt;\n            L_NO_TOUCH = false;\n            L_DISABLE_3D = false;\n        &lt;/script&gt;\n    \n    &lt;style&gt;html, body {width: 100%;height: 100%;margin: 0;padding: 0;}&lt;/style&gt;\n    &lt;style&gt;#map {position:absolute;top:0;bottom:0;right:0;left:0;}&lt;/style&gt;\n    &lt;script src=&quot;https://cdn.jsdelivr.net/npm/leaflet@1.9.3/dist/leaflet.js&quot;&gt;&lt;/script&gt;\n    &lt;script src=&quot;https://code.jquery.com/jquery-3.7.1.min.js&quot;&gt;&lt;/script&gt;\n    &lt;script src=&quot;https://cdn.jsdelivr.net/npm/bootstrap@5.2.2/dist/js/bootstrap.bundle.min.js&quot;&gt;&lt;/script&gt;\n    &lt;script src=&quot;https://cdnjs.cloudflare.com/ajax/libs/Leaflet.awesome-markers/2.0.2/leaflet.awesome-markers.js&quot;&gt;&lt;/script&gt;\n    &lt;link rel=&quot;stylesheet&quot; href=&quot;https://cdn.jsdelivr.net/npm/leaflet@1.9.3/dist/leaflet.css&quot;/&gt;\n    &lt;link rel=&quot;stylesheet&quot; href=&quot;https://cdn.jsdelivr.net/npm/bootstrap@5.2.2/dist/css/bootstrap.min.css&quot;/&gt;\n    &lt;link rel=&quot;stylesheet&quot; href=&quot;https://netdna.bootstrapcdn.com/bootstrap/3.0.0/css/bootstrap.min.css&quot;/&gt;\n    &lt;link rel=&quot;stylesheet&quot; href=&quot;https://cdn.jsdelivr.net/npm/@fortawesome/fontawesome-free@6.2.0/css/all.min.css&quot;/&gt;\n    &lt;link rel=&quot;stylesheet&quot; href=&quot;https://cdnjs.cloudflare.com/ajax/libs/Leaflet.awesome-markers/2.0.2/leaflet.awesome-markers.css&quot;/&gt;\n    &lt;link rel=&quot;stylesheet&quot; href=&quot;https://cdn.jsdelivr.net/gh/python-visualization/folium/folium/templates/leaflet.awesome.rotate.min.css&quot;/&gt;\n    \n            &lt;meta name=&quot;viewport&quot; content=&quot;width=device-width,\n                initial-scale=1.0, maximum-scale=1.0, user-scalable=no&quot; /&gt;\n            &lt;style&gt;\n                #map_749d602ee5f01c25b6c99b612dae6805 {\n                    position: relative;\n                    width: 100.0%;\n                    height: 100.0%;\n                    left: 0.0%;\n                    top: 0.0%;\n                }\n                .leaflet-container { font-size: 1rem; }\n            &lt;/style&gt;\n        \n&lt;/head&gt;\n&lt;body&gt;\n    \n    \n            &lt;div class=&quot;folium-map&quot; id=&quot;map_749d602ee5f01c25b6c99b612dae6805&quot; &gt;&lt;/div&gt;\n        \n&lt;/body&gt;\n&lt;script&gt;\n    \n    \n            var map_749d602ee5f01c25b6c99b612dae6805 = L.map(\n                &quot;map_749d602ee5f01c25b6c99b612dae6805&quot;,\n                {\n                    center: [-40.9256, -71.5151],\n                    crs: L.CRS.EPSG3857,\n                    zoom: 10,\n                    zoomControl: true,\n                    preferCanvas: false,\n                }\n            );\n\n            \n\n        \n    \n            var tile_layer_8940aeae62f82bf9efde2ee15214aaa2 = L.tileLayer(\n                &quot;https://tile.openstreetmap.org/{z}/{x}/{y}.png&quot;,\n                {&quot;attribution&quot;: &quot;\\u0026copy; \\u003ca href=\\&quot;https://www.openstreetmap.org/copyright\\&quot;\\u003eOpenStreetMap\\u003c/a\\u003e contributors&quot;, &quot;detectRetina&quot;: false, &quot;maxNativeZoom&quot;: 19, &quot;maxZoom&quot;: 19, &quot;minZoom&quot;: 0, &quot;noWrap&quot;: false, &quot;opacity&quot;: 1, &quot;subdomains&quot;: &quot;abc&quot;, &quot;tms&quot;: false}\n            );\n        \n    \n            tile_layer_8940aeae62f82bf9efde2ee15214aaa2.addTo(map_749d602ee5f01c25b6c99b612dae6805);\n        \n    \n            var marker_77a474753e26dbcecf62373b495c24c0 = L.marker(\n                [-40.9256, -71.5151],\n                {}\n            ).addTo(map_749d602ee5f01c25b6c99b612dae6805);\n        \n    \n            var icon_b0109971a2848e441ab89e8d43f89e1a = L.AwesomeMarkers.icon(\n                {&quot;extraClasses&quot;: &quot;fa-rotate-0&quot;, &quot;icon&quot;: &quot;leaf&quot;, &quot;iconColor&quot;: &quot;white&quot;, &quot;markerColor&quot;: &quot;blue&quot;, &quot;prefix&quot;: &quot;glyphicon&quot;}\n            );\n            marker_77a474753e26dbcecf62373b495c24c0.setIcon(icon_b0109971a2848e441ab89e8d43f89e1a);\n        \n    \n        var popup_88fa93fa55a3455ba7e77654346a740f = L.popup({&quot;maxWidth&quot;: &quot;100%&quot;});\n\n        \n            \n                var html_f97614611a32f47878c598a76d227308 = $(`&lt;div id=&quot;html_f97614611a32f47878c598a76d227308&quot; style=&quot;width: 100.0%; height: 100.0%;&quot;&gt;Mi Parque&lt;/div&gt;`)[0];\n                popup_88fa93fa55a3455ba7e77654346a740f.setContent(html_f97614611a32f47878c598a76d227308);\n            \n        \n\n        marker_77a474753e26dbcecf62373b495c24c0.bindPopup(popup_88fa93fa55a3455ba7e77654346a740f)\n        ;\n\n        \n    \n    \n            marker_77a474753e26dbcecf62373b495c24c0.bindTooltip(\n                `&lt;div&gt;\n                     Hola!\n                 &lt;/div&gt;`,\n                {&quot;sticky&quot;: true}\n            );\n        \n&lt;/script&gt;\n&lt;/html&gt;\" style=\"position:absolute;width:100%;height:100%;left:0;top:0;border:none !important;\" allowfullscreen webkitallowfullscreen mozallowfullscreen></iframe></div></div>"
     },
     "execution_count": 7,
     "metadata": {},
     "output_type": "execute_result"
    }
   ],
   "source": [
    "nahuel_huapi = (-40.9256, -71.5151)\n",
    "lanin = (-39.95, -71.07)\n",
    "puelo = (-42.09, -71.61)\n",
    "arrayanes = (-40.78, -71.65)\n",
    "parques = [nahuel_huapi, lanin, puelo, arrayanes]\n",
    "categories = ['NOA', 'Patagonia']\n",
    "\n",
    "m = folium.Map(location=nahuel_huapi)\n",
    "folium.Marker(\n",
    "    location=nahuel_huapi,\n",
    "    tooltip=\"Hola!\",\n",
    "    popup=\"Mi Parque\",\n",
    "    icon=folium.Icon(icon=\"leaf\"),\n",
    ").add_to(m)\n",
    "m"
   ],
   "metadata": {
    "collapsed": false,
    "ExecuteTime": {
     "end_time": "2023-12-29T21:22:32.443550435Z",
     "start_time": "2023-12-29T21:22:32.400307642Z"
    }
   },
   "id": "7d10a3dc39d99467"
  },
  {
   "cell_type": "code",
   "execution_count": null,
   "outputs": [],
   "source": [
    "with open('parques_nacionales.json', 'r') as f:\n",
    "    parquesnacionales = json.load(f)\n",
    "\n",
    "\n",
    "marker_colors = [\"red\", \"orange\", \"green\", \"blue\"]\n",
    "m = folium.Map(\n",
    "    nahuel_huapi, \n",
    "    zoom_start=9,\n",
    "    control_scale=True,\n",
    ")\n",
    "folium.GeoJson(\n",
    "    parquesnacionales,\n",
    "    name=\"Parques Nacionales Argentina\",\n",
    "    zoom_on_click=True,\n",
    "    marker=folium.Marker(icon=folium.Icon(icon='leaf')),\n",
    "    tooltip=folium.GeoJsonTooltip(fields=[\"fna\"]),  # Show fullname on hover\n",
    "    style_function=lambda feature: {\n",
    "        \"fillColor\": \"#008000\",\n",
    "        \"color\": \"green\",\n",
    "        \"weight\": 2,\n",
    "        \"dashArray\": \"5, 5\",\n",
    "    }\n",
    ").add_to(m)\n",
    "\n",
    "# TODO: Show SVG icon as marker\n",
    "html = \"\"\"<img src=\"NahuelHuapi.png\" alt=\"Fallo\"/>\"\"\"\n",
    "\n",
    "\n",
    "folium.Marker(nahuel_huapi, popup=html).add_to(m)\n",
    "\n",
    "m"
   ],
   "metadata": {
    "collapsed": false
   },
   "id": "676e525ad0f2fcc5"
  },
  {
   "cell_type": "code",
   "execution_count": 10,
   "outputs": [
    {
     "data": {
      "text/plain": "<folium.folium.Map at 0x7f0df5f78450>",
      "text/html": "<div style=\"width:100%;\"><div style=\"position:relative;width:100%;height:0;padding-bottom:60%;\"><span style=\"color:#565656\">Make this Notebook Trusted to load map: File -> Trust Notebook</span><iframe srcdoc=\"&lt;!DOCTYPE html&gt;\n&lt;html&gt;\n&lt;head&gt;\n    \n    &lt;meta http-equiv=&quot;content-type&quot; content=&quot;text/html; charset=UTF-8&quot; /&gt;\n    \n        &lt;script&gt;\n            L_NO_TOUCH = false;\n            L_DISABLE_3D = false;\n        &lt;/script&gt;\n    \n    &lt;style&gt;html, body {width: 100%;height: 100%;margin: 0;padding: 0;}&lt;/style&gt;\n    &lt;style&gt;#map {position:absolute;top:0;bottom:0;right:0;left:0;}&lt;/style&gt;\n    &lt;script src=&quot;https://cdn.jsdelivr.net/npm/leaflet@1.9.3/dist/leaflet.js&quot;&gt;&lt;/script&gt;\n    &lt;script src=&quot;https://code.jquery.com/jquery-3.7.1.min.js&quot;&gt;&lt;/script&gt;\n    &lt;script src=&quot;https://cdn.jsdelivr.net/npm/bootstrap@5.2.2/dist/js/bootstrap.bundle.min.js&quot;&gt;&lt;/script&gt;\n    &lt;script src=&quot;https://cdnjs.cloudflare.com/ajax/libs/Leaflet.awesome-markers/2.0.2/leaflet.awesome-markers.js&quot;&gt;&lt;/script&gt;\n    &lt;link rel=&quot;stylesheet&quot; href=&quot;https://cdn.jsdelivr.net/npm/leaflet@1.9.3/dist/leaflet.css&quot;/&gt;\n    &lt;link rel=&quot;stylesheet&quot; href=&quot;https://cdn.jsdelivr.net/npm/bootstrap@5.2.2/dist/css/bootstrap.min.css&quot;/&gt;\n    &lt;link rel=&quot;stylesheet&quot; href=&quot;https://netdna.bootstrapcdn.com/bootstrap/3.0.0/css/bootstrap.min.css&quot;/&gt;\n    &lt;link rel=&quot;stylesheet&quot; href=&quot;https://cdn.jsdelivr.net/npm/@fortawesome/fontawesome-free@6.2.0/css/all.min.css&quot;/&gt;\n    &lt;link rel=&quot;stylesheet&quot; href=&quot;https://cdnjs.cloudflare.com/ajax/libs/Leaflet.awesome-markers/2.0.2/leaflet.awesome-markers.css&quot;/&gt;\n    &lt;link rel=&quot;stylesheet&quot; href=&quot;https://cdn.jsdelivr.net/gh/python-visualization/folium/folium/templates/leaflet.awesome.rotate.min.css&quot;/&gt;\n    \n            &lt;meta name=&quot;viewport&quot; content=&quot;width=device-width,\n                initial-scale=1.0, maximum-scale=1.0, user-scalable=no&quot; /&gt;\n            &lt;style&gt;\n                #map_e806e20e4188fd44e934d879dc15d1bc {\n                    position: relative;\n                    width: 100.0%;\n                    height: 100.0%;\n                    left: 0.0%;\n                    top: 0.0%;\n                }\n                .leaflet-container { font-size: 1rem; }\n            &lt;/style&gt;\n        \n    &lt;script src=&quot;https://cdnjs.cloudflare.com/ajax/libs/leaflet.markercluster/1.1.0/leaflet.markercluster.js&quot;&gt;&lt;/script&gt;\n    &lt;link rel=&quot;stylesheet&quot; href=&quot;https://cdnjs.cloudflare.com/ajax/libs/leaflet.markercluster/1.1.0/MarkerCluster.css&quot;/&gt;\n    &lt;link rel=&quot;stylesheet&quot; href=&quot;https://cdnjs.cloudflare.com/ajax/libs/leaflet.markercluster/1.1.0/MarkerCluster.Default.css&quot;/&gt;\n    &lt;script src=&quot;https://cdn.jsdelivr.net/npm/leaflet-tag-filter-button/src/leaflet-tag-filter-button.js&quot;&gt;&lt;/script&gt;\n    &lt;script src=&quot;https://cdn.jsdelivr.net/npm/leaflet-easybutton@2/src/easy-button.js&quot;&gt;&lt;/script&gt;\n    &lt;link rel=&quot;stylesheet&quot; href=&quot;https://cdn.jsdelivr.net/npm/leaflet-tag-filter-button/src/leaflet-tag-filter-button.css&quot;/&gt;\n    &lt;link rel=&quot;stylesheet&quot; href=&quot;https://cdn.jsdelivr.net/npm/leaflet-easybutton@2/src/easy-button.css&quot;/&gt;\n    &lt;link rel=&quot;stylesheet&quot; href=&quot;https://cdn.jsdelivr.net/npm/css-ripple-effect@1.0.5/dist/ripple.min.css&quot;/&gt;\n&lt;/head&gt;\n&lt;body&gt;\n    \n    \n            &lt;div class=&quot;folium-map&quot; id=&quot;map_e806e20e4188fd44e934d879dc15d1bc&quot; &gt;&lt;/div&gt;\n        \n&lt;/body&gt;\n&lt;script&gt;\n    \n    \n            var map_e806e20e4188fd44e934d879dc15d1bc = L.map(\n                &quot;map_e806e20e4188fd44e934d879dc15d1bc&quot;,\n                {\n                    center: [-40.0, -71.0],\n                    crs: L.CRS.EPSG3857,\n                    zoom: 5,\n                    zoomControl: true,\n                    preferCanvas: false,\n                }\n            );\n\n            \n\n        \n    \n            var tile_layer_ab3477df1a11ba163edaa2d23db0f84f = L.tileLayer(\n                &quot;https://tile.openstreetmap.org/{z}/{x}/{y}.png&quot;,\n                {&quot;attribution&quot;: &quot;\\u0026copy; \\u003ca href=\\&quot;https://www.openstreetmap.org/copyright\\&quot;\\u003eOpenStreetMap\\u003c/a\\u003e contributors&quot;, &quot;detectRetina&quot;: false, &quot;maxNativeZoom&quot;: 19, &quot;maxZoom&quot;: 19, &quot;minZoom&quot;: 0, &quot;noWrap&quot;: false, &quot;opacity&quot;: 1, &quot;subdomains&quot;: &quot;abc&quot;, &quot;tms&quot;: false}\n            );\n        \n    \n            tile_layer_ab3477df1a11ba163edaa2d23db0f84f.addTo(map_e806e20e4188fd44e934d879dc15d1bc);\n        \n    \n            var marker_cluster_13f2c2a5bb019fa3d3473e741870c426 = L.markerClusterGroup(\n                {}\n            );\n        \n    \n            var marker_f81689d7fa7ad5f81a1ec29a9852567e = L.marker(\n                [-40.9256, -71.5151],\n                {&quot;tags&quot;: [&quot;Patagonia&quot;]}\n            ).addTo(marker_cluster_13f2c2a5bb019fa3d3473e741870c426);\n        \n    \n            var icon_71c8b7ce17e48e0b47ecc86935344395 = L.AwesomeMarkers.icon(\n                {&quot;extraClasses&quot;: &quot;fa-rotate-0&quot;, &quot;icon&quot;: &quot;leaf&quot;, &quot;iconColor&quot;: &quot;white&quot;, &quot;markerColor&quot;: &quot;green&quot;, &quot;prefix&quot;: &quot;glyphicon&quot;}\n            );\n            marker_f81689d7fa7ad5f81a1ec29a9852567e.setIcon(icon_71c8b7ce17e48e0b47ecc86935344395);\n        \n    \n        var popup_c9558b3fc9026d59ec9aaaf4acddd568 = L.popup({&quot;maxWidth&quot;: &quot;100%&quot;});\n\n        \n            \n                var html_8393899d201163763f1efe2085605893 = $(`&lt;div id=&quot;html_8393899d201163763f1efe2085605893&quot; style=&quot;width: 100.0%; height: 100.0%;&quot;&gt;Popup text&lt;/div&gt;`)[0];\n                popup_c9558b3fc9026d59ec9aaaf4acddd568.setContent(html_8393899d201163763f1efe2085605893);\n            \n        \n\n        marker_f81689d7fa7ad5f81a1ec29a9852567e.bindPopup(popup_c9558b3fc9026d59ec9aaaf4acddd568)\n        ;\n\n        \n    \n    \n            var marker_4f0c52e2b1f54a748c83433d33456930 = L.marker(\n                [-39.95, -71.07],\n                {&quot;tags&quot;: [&quot;Patagonia&quot;]}\n            ).addTo(marker_cluster_13f2c2a5bb019fa3d3473e741870c426);\n        \n    \n            var icon_e3d23f8eebd4f7384a0375c737566b01 = L.AwesomeMarkers.icon(\n                {&quot;extraClasses&quot;: &quot;fa-rotate-0&quot;, &quot;icon&quot;: &quot;leaf&quot;, &quot;iconColor&quot;: &quot;white&quot;, &quot;markerColor&quot;: &quot;green&quot;, &quot;prefix&quot;: &quot;glyphicon&quot;}\n            );\n            marker_4f0c52e2b1f54a748c83433d33456930.setIcon(icon_e3d23f8eebd4f7384a0375c737566b01);\n        \n    \n        var popup_34274e60764bb023d782a50dd8ade16c = L.popup({&quot;maxWidth&quot;: &quot;100%&quot;});\n\n        \n            \n                var html_1a894f165c7f210bb030f87a6f8042f6 = $(`&lt;div id=&quot;html_1a894f165c7f210bb030f87a6f8042f6&quot; style=&quot;width: 100.0%; height: 100.0%;&quot;&gt;Popup text&lt;/div&gt;`)[0];\n                popup_34274e60764bb023d782a50dd8ade16c.setContent(html_1a894f165c7f210bb030f87a6f8042f6);\n            \n        \n\n        marker_4f0c52e2b1f54a748c83433d33456930.bindPopup(popup_34274e60764bb023d782a50dd8ade16c)\n        ;\n\n        \n    \n    \n            var marker_b2048db57991a6a66a0a5ac14c5d280a = L.marker(\n                [-42.09, -71.61],\n                {&quot;tags&quot;: [&quot;Patagonia&quot;]}\n            ).addTo(marker_cluster_13f2c2a5bb019fa3d3473e741870c426);\n        \n    \n            var icon_8d754b797f7984471d4400cf044141b4 = L.AwesomeMarkers.icon(\n                {&quot;extraClasses&quot;: &quot;fa-rotate-0&quot;, &quot;icon&quot;: &quot;leaf&quot;, &quot;iconColor&quot;: &quot;white&quot;, &quot;markerColor&quot;: &quot;green&quot;, &quot;prefix&quot;: &quot;glyphicon&quot;}\n            );\n            marker_b2048db57991a6a66a0a5ac14c5d280a.setIcon(icon_8d754b797f7984471d4400cf044141b4);\n        \n    \n        var popup_ce8e2cb0a9da8c406fcb55d11afed67e = L.popup({&quot;maxWidth&quot;: &quot;100%&quot;});\n\n        \n            \n                var html_f95a6885f46ef72fbc1b76102192fb6b = $(`&lt;div id=&quot;html_f95a6885f46ef72fbc1b76102192fb6b&quot; style=&quot;width: 100.0%; height: 100.0%;&quot;&gt;Popup text&lt;/div&gt;`)[0];\n                popup_ce8e2cb0a9da8c406fcb55d11afed67e.setContent(html_f95a6885f46ef72fbc1b76102192fb6b);\n            \n        \n\n        marker_b2048db57991a6a66a0a5ac14c5d280a.bindPopup(popup_ce8e2cb0a9da8c406fcb55d11afed67e)\n        ;\n\n        \n    \n    \n            var marker_1d30300636d3dde4d44724eb26922109 = L.marker(\n                [-40.78, -71.65],\n                {&quot;tags&quot;: [&quot;Patagonia&quot;]}\n            ).addTo(marker_cluster_13f2c2a5bb019fa3d3473e741870c426);\n        \n    \n            var icon_d2790e1dedb15676b9f08ea15ef55b83 = L.AwesomeMarkers.icon(\n                {&quot;extraClasses&quot;: &quot;fa-rotate-0&quot;, &quot;icon&quot;: &quot;leaf&quot;, &quot;iconColor&quot;: &quot;white&quot;, &quot;markerColor&quot;: &quot;green&quot;, &quot;prefix&quot;: &quot;glyphicon&quot;}\n            );\n            marker_1d30300636d3dde4d44724eb26922109.setIcon(icon_d2790e1dedb15676b9f08ea15ef55b83);\n        \n    \n        var popup_70577e7c82c276557672592e0fc51c17 = L.popup({&quot;maxWidth&quot;: &quot;100%&quot;});\n\n        \n            \n                var html_2e832eafb27842728330f0a5dea76c32 = $(`&lt;div id=&quot;html_2e832eafb27842728330f0a5dea76c32&quot; style=&quot;width: 100.0%; height: 100.0%;&quot;&gt;Popup text&lt;/div&gt;`)[0];\n                popup_70577e7c82c276557672592e0fc51c17.setContent(html_2e832eafb27842728330f0a5dea76c32);\n            \n        \n\n        marker_1d30300636d3dde4d44724eb26922109.bindPopup(popup_70577e7c82c276557672592e0fc51c17)\n        ;\n\n        \n    \n    \n            marker_cluster_13f2c2a5bb019fa3d3473e741870c426.addTo(map_e806e20e4188fd44e934d879dc15d1bc);\n        \n    \n            var tag_filter_button_7a2b0beb6ea5a4335c89b1e2739f49df = L.control.tagFilterButton(\n                {&quot;clearText&quot;: &quot;clear&quot;, &quot;data&quot;: [&quot;NOA&quot;, &quot;Patagonia&quot;], &quot;filterOnEveryClick&quot;: true, &quot;icon&quot;: &quot;fa-filter&quot;, &quot;openPopupOnHover&quot;: false}\n            ).addTo(map_e806e20e4188fd44e934d879dc15d1bc);\n        \n&lt;/script&gt;\n&lt;/html&gt;\" style=\"position:absolute;width:100%;height:100%;left:0;top:0;border:none !important;\" allowfullscreen webkitallowfullscreen mozallowfullscreen></iframe></div></div>"
     },
     "execution_count": 10,
     "metadata": {},
     "output_type": "execute_result"
    }
   ],
   "source": [
    "import folium\n",
    "from folium.plugins import MarkerCluster\n",
    "\n",
    "m = folium.Map(location=[-40, -71], zoom_start=5)\n",
    "\n",
    "marker_cluster = MarkerCluster().add_to(m)\n",
    "TagFilterButton(categories).add_to(m)\n",
    "\n",
    "for p in parques:\n",
    "    folium.Marker(\n",
    "        location=p, popup='Popup text', icon=folium.Icon(color='green', icon='leaf'),\n",
    "        tags=['Patagonia']\n",
    "    ).add_to(marker_cluster)\n",
    "\n",
    "m"
   ],
   "metadata": {
    "collapsed": false,
    "ExecuteTime": {
     "end_time": "2023-12-29T21:22:53.623895795Z",
     "start_time": "2023-12-29T21:22:53.582053957Z"
    }
   },
   "id": "22a89c1db234cde0"
  },
  {
   "cell_type": "code",
   "execution_count": null,
   "outputs": [],
   "source": [],
   "metadata": {
    "collapsed": false
   },
   "id": "42c2de03034d8bea"
  }
 ],
 "metadata": {
  "kernelspec": {
   "display_name": "Python 3",
   "language": "python",
   "name": "python3"
  },
  "language_info": {
   "codemirror_mode": {
    "name": "ipython",
    "version": 2
   },
   "file_extension": ".py",
   "mimetype": "text/x-python",
   "name": "python",
   "nbconvert_exporter": "python",
   "pygments_lexer": "ipython2",
   "version": "2.7.6"
  }
 },
 "nbformat": 4,
 "nbformat_minor": 5
}
