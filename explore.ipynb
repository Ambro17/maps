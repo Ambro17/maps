{
 "cells": [
  {
   "cell_type": "code",
   "execution_count": null,
   "outputs": [],
   "source": [
    "import json\n",
    "import folium\n",
    "import os\n",
    "from pathlib import Path"
   ],
   "metadata": {
    "collapsed": false
   },
   "id": "ac30eb3e4d49918e"
  },
  {
   "cell_type": "code",
   "execution_count": null,
   "outputs": [],
   "source": [
    "nahuel_huapi = (-40.9256, -71.5151)\n",
    "m = folium.Map(location=nahuel_huapi)\n",
    "folium.Marker(\n",
    "    location=nahuel_huapi,\n",
    "    tooltip=\"Hola!\",\n",
    "    popup=\"Mi Parque\",\n",
    "    icon=folium.Icon(icon=\"leaf\"),\n",
    ").add_to(m)\n",
    "m"
   ],
   "metadata": {
    "collapsed": false
   },
   "id": "7d10a3dc39d99467"
  },
  {
   "cell_type": "code",
   "execution_count": null,
   "outputs": [],
   "source": [
    "with open('parques_nacionales.json', 'r') as f:\n",
    "    parquesnacionales = json.load(f)\n",
    "\n",
    "\n",
    "marker_colors = [\"red\", \"orange\", \"green\", \"blue\"]\n",
    "m = folium.Map(\n",
    "    nahuel_huapi, \n",
    "    zoom_start=9,\n",
    "    control_scale=True,\n",
    ")\n",
    "folium.GeoJson(\n",
    "    parquesnacionales,\n",
    "    name=\"Parques Nacionales Argentina\",\n",
    "    zoom_on_click=True,\n",
    "    marker=folium.Marker(icon=folium.Icon(icon='leaf')),\n",
    "    tooltip=folium.GeoJsonTooltip(fields=[\"fna\"]),  # Show fullname on hover\n",
    "    style_function=lambda feature: {\n",
    "        \"fillColor\": \"#008000\",\n",
    "        \"color\": \"green\",\n",
    "        \"weight\": 2,\n",
    "        \"dashArray\": \"5, 5\",\n",
    "    }\n",
    ").add_to(m)\n",
    "m"
   ],
   "metadata": {
    "collapsed": false
   },
   "id": "676e525ad0f2fcc5"
  },
  {
   "cell_type": "code",
   "execution_count": null,
   "outputs": [],
   "source": [],
   "metadata": {
    "collapsed": false
   },
   "id": "4ecbaefffb2e3460"
  },
  {
   "cell_type": "code",
   "execution_count": null,
   "outputs": [],
   "source": [],
   "metadata": {
    "collapsed": false
   },
   "id": "9580e14fb70730b5"
  }
 ],
 "metadata": {
  "kernelspec": {
   "display_name": "Python 3",
   "language": "python",
   "name": "python3"
  },
  "language_info": {
   "codemirror_mode": {
    "name": "ipython",
    "version": 2
   },
   "file_extension": ".py",
   "mimetype": "text/x-python",
   "name": "python",
   "nbconvert_exporter": "python",
   "pygments_lexer": "ipython2",
   "version": "2.7.6"
  }
 },
 "nbformat": 4,
 "nbformat_minor": 5
}
