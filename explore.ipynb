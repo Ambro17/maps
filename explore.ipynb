{
 "cells": [
  {
   "cell_type": "code",
   "execution_count": 1,
   "outputs": [],
   "source": [
    "import json\n",
    "import folium\n",
    "from folium.plugins import MarkerCluster\n",
    "import os\n",
    "from pathlib import Path"
   ],
   "metadata": {
    "collapsed": false,
    "ExecuteTime": {
     "end_time": "2023-12-29T20:58:50.439025499Z",
     "start_time": "2023-12-29T20:58:50.106936880Z"
    }
   },
   "id": "ac30eb3e4d49918e"
  },
  {
   "cell_type": "code",
   "execution_count": 4,
   "outputs": [
    {
     "data": {
      "text/plain": "<folium.folium.Map at 0x7f0df5d52110>",
      "text/html": "<div style=\"width:100%;\"><div style=\"position:relative;width:100%;height:0;padding-bottom:60%;\"><span style=\"color:#565656\">Make this Notebook Trusted to load map: File -> Trust Notebook</span><iframe srcdoc=\"&lt;!DOCTYPE html&gt;\n&lt;html&gt;\n&lt;head&gt;\n    \n    &lt;meta http-equiv=&quot;content-type&quot; content=&quot;text/html; charset=UTF-8&quot; /&gt;\n    \n        &lt;script&gt;\n            L_NO_TOUCH = false;\n            L_DISABLE_3D = false;\n        &lt;/script&gt;\n    \n    &lt;style&gt;html, body {width: 100%;height: 100%;margin: 0;padding: 0;}&lt;/style&gt;\n    &lt;style&gt;#map {position:absolute;top:0;bottom:0;right:0;left:0;}&lt;/style&gt;\n    &lt;script src=&quot;https://cdn.jsdelivr.net/npm/leaflet@1.9.3/dist/leaflet.js&quot;&gt;&lt;/script&gt;\n    &lt;script src=&quot;https://code.jquery.com/jquery-3.7.1.min.js&quot;&gt;&lt;/script&gt;\n    &lt;script src=&quot;https://cdn.jsdelivr.net/npm/bootstrap@5.2.2/dist/js/bootstrap.bundle.min.js&quot;&gt;&lt;/script&gt;\n    &lt;script src=&quot;https://cdnjs.cloudflare.com/ajax/libs/Leaflet.awesome-markers/2.0.2/leaflet.awesome-markers.js&quot;&gt;&lt;/script&gt;\n    &lt;link rel=&quot;stylesheet&quot; href=&quot;https://cdn.jsdelivr.net/npm/leaflet@1.9.3/dist/leaflet.css&quot;/&gt;\n    &lt;link rel=&quot;stylesheet&quot; href=&quot;https://cdn.jsdelivr.net/npm/bootstrap@5.2.2/dist/css/bootstrap.min.css&quot;/&gt;\n    &lt;link rel=&quot;stylesheet&quot; href=&quot;https://netdna.bootstrapcdn.com/bootstrap/3.0.0/css/bootstrap.min.css&quot;/&gt;\n    &lt;link rel=&quot;stylesheet&quot; href=&quot;https://cdn.jsdelivr.net/npm/@fortawesome/fontawesome-free@6.2.0/css/all.min.css&quot;/&gt;\n    &lt;link rel=&quot;stylesheet&quot; href=&quot;https://cdnjs.cloudflare.com/ajax/libs/Leaflet.awesome-markers/2.0.2/leaflet.awesome-markers.css&quot;/&gt;\n    &lt;link rel=&quot;stylesheet&quot; href=&quot;https://cdn.jsdelivr.net/gh/python-visualization/folium/folium/templates/leaflet.awesome.rotate.min.css&quot;/&gt;\n    \n            &lt;meta name=&quot;viewport&quot; content=&quot;width=device-width,\n                initial-scale=1.0, maximum-scale=1.0, user-scalable=no&quot; /&gt;\n            &lt;style&gt;\n                #map_e721d5c0efd36bfb5f356ff9c463814f {\n                    position: relative;\n                    width: 100.0%;\n                    height: 100.0%;\n                    left: 0.0%;\n                    top: 0.0%;\n                }\n                .leaflet-container { font-size: 1rem; }\n            &lt;/style&gt;\n        \n&lt;/head&gt;\n&lt;body&gt;\n    \n    \n            &lt;div class=&quot;folium-map&quot; id=&quot;map_e721d5c0efd36bfb5f356ff9c463814f&quot; &gt;&lt;/div&gt;\n        \n&lt;/body&gt;\n&lt;script&gt;\n    \n    \n            var map_e721d5c0efd36bfb5f356ff9c463814f = L.map(\n                &quot;map_e721d5c0efd36bfb5f356ff9c463814f&quot;,\n                {\n                    center: [-40.9256, -71.5151],\n                    crs: L.CRS.EPSG3857,\n                    zoom: 10,\n                    zoomControl: true,\n                    preferCanvas: false,\n                }\n            );\n\n            \n\n        \n    \n            var tile_layer_66629f8f31e26001e251d1852a7311df = L.tileLayer(\n                &quot;https://tile.openstreetmap.org/{z}/{x}/{y}.png&quot;,\n                {&quot;attribution&quot;: &quot;\\u0026copy; \\u003ca href=\\&quot;https://www.openstreetmap.org/copyright\\&quot;\\u003eOpenStreetMap\\u003c/a\\u003e contributors&quot;, &quot;detectRetina&quot;: false, &quot;maxNativeZoom&quot;: 19, &quot;maxZoom&quot;: 19, &quot;minZoom&quot;: 0, &quot;noWrap&quot;: false, &quot;opacity&quot;: 1, &quot;subdomains&quot;: &quot;abc&quot;, &quot;tms&quot;: false}\n            );\n        \n    \n            tile_layer_66629f8f31e26001e251d1852a7311df.addTo(map_e721d5c0efd36bfb5f356ff9c463814f);\n        \n    \n            var marker_0d47b0874c2135047ae770c2b050318a = L.marker(\n                [-40.9256, -71.5151],\n                {}\n            ).addTo(map_e721d5c0efd36bfb5f356ff9c463814f);\n        \n    \n            var icon_6b60a8da11b8aabed4949946f7193fc0 = L.AwesomeMarkers.icon(\n                {&quot;extraClasses&quot;: &quot;fa-rotate-0&quot;, &quot;icon&quot;: &quot;leaf&quot;, &quot;iconColor&quot;: &quot;white&quot;, &quot;markerColor&quot;: &quot;blue&quot;, &quot;prefix&quot;: &quot;glyphicon&quot;}\n            );\n            marker_0d47b0874c2135047ae770c2b050318a.setIcon(icon_6b60a8da11b8aabed4949946f7193fc0);\n        \n    \n        var popup_7e285dd27960133ebf2f3a71fe2f2376 = L.popup({&quot;maxWidth&quot;: &quot;100%&quot;});\n\n        \n            \n                var html_e47c8e3eaa1876683b4bcdd521b2cfe2 = $(`&lt;div id=&quot;html_e47c8e3eaa1876683b4bcdd521b2cfe2&quot; style=&quot;width: 100.0%; height: 100.0%;&quot;&gt;Mi Parque&lt;/div&gt;`)[0];\n                popup_7e285dd27960133ebf2f3a71fe2f2376.setContent(html_e47c8e3eaa1876683b4bcdd521b2cfe2);\n            \n        \n\n        marker_0d47b0874c2135047ae770c2b050318a.bindPopup(popup_7e285dd27960133ebf2f3a71fe2f2376)\n        ;\n\n        \n    \n    \n            marker_0d47b0874c2135047ae770c2b050318a.bindTooltip(\n                `&lt;div&gt;\n                     Hola!\n                 &lt;/div&gt;`,\n                {&quot;sticky&quot;: true}\n            );\n        \n&lt;/script&gt;\n&lt;/html&gt;\" style=\"position:absolute;width:100%;height:100%;left:0;top:0;border:none !important;\" allowfullscreen webkitallowfullscreen mozallowfullscreen></iframe></div></div>"
     },
     "execution_count": 4,
     "metadata": {},
     "output_type": "execute_result"
    }
   ],
   "source": [
    "nahuel_huapi = (-40.9256, -71.5151)\n",
    "lanin = (-39.95, -71.07)\n",
    "puelo = (-42.09, -71.61)\n",
    "arrayanes = (-40.78, -71.65)\n",
    "parques = [nahuel_huapi, lanin, puelo, arrayanes]\n",
    "\n",
    "m = folium.Map(location=nahuel_huapi)\n",
    "folium.Marker(\n",
    "    location=nahuel_huapi,\n",
    "    tooltip=\"Hola!\",\n",
    "    popup=\"Mi Parque\",\n",
    "    icon=folium.Icon(icon=\"leaf\"),\n",
    ").add_to(m)\n",
    "m"
   ],
   "metadata": {
    "collapsed": false,
    "ExecuteTime": {
     "end_time": "2023-12-29T21:09:42.309324467Z",
     "start_time": "2023-12-29T21:09:42.302984053Z"
    }
   },
   "id": "7d10a3dc39d99467"
  },
  {
   "cell_type": "code",
   "execution_count": null,
   "outputs": [],
   "source": [
    "with open('parques_nacionales.json', 'r') as f:\n",
    "    parquesnacionales = json.load(f)\n",
    "\n",
    "\n",
    "marker_colors = [\"red\", \"orange\", \"green\", \"blue\"]\n",
    "m = folium.Map(\n",
    "    nahuel_huapi, \n",
    "    zoom_start=9,\n",
    "    control_scale=True,\n",
    ")\n",
    "folium.GeoJson(\n",
    "    parquesnacionales,\n",
    "    name=\"Parques Nacionales Argentina\",\n",
    "    zoom_on_click=True,\n",
    "    marker=folium.Marker(icon=folium.Icon(icon='leaf')),\n",
    "    tooltip=folium.GeoJsonTooltip(fields=[\"fna\"]),  # Show fullname on hover\n",
    "    style_function=lambda feature: {\n",
    "        \"fillColor\": \"#008000\",\n",
    "        \"color\": \"green\",\n",
    "        \"weight\": 2,\n",
    "        \"dashArray\": \"5, 5\",\n",
    "    }\n",
    ").add_to(m)\n",
    "\n",
    "# TODO: Show SVG icon as marker\n",
    "html = \"\"\"<img src=\"NahuelHuapi.png\" alt=\"Fallo\"/>\"\"\"\n",
    "\n",
    "\n",
    "folium.Marker(nahuel_huapi, popup=html).add_to(m)\n",
    "\n",
    "m"
   ],
   "metadata": {
    "collapsed": false
   },
   "id": "676e525ad0f2fcc5"
  },
  {
   "cell_type": "code",
   "execution_count": 6,
   "outputs": [
    {
     "data": {
      "text/plain": "<folium.folium.Map at 0x7f0df5898110>",
      "text/html": "<div style=\"width:100%;\"><div style=\"position:relative;width:100%;height:0;padding-bottom:60%;\"><span style=\"color:#565656\">Make this Notebook Trusted to load map: File -> Trust Notebook</span><iframe srcdoc=\"&lt;!DOCTYPE html&gt;\n&lt;html&gt;\n&lt;head&gt;\n    \n    &lt;meta http-equiv=&quot;content-type&quot; content=&quot;text/html; charset=UTF-8&quot; /&gt;\n    \n        &lt;script&gt;\n            L_NO_TOUCH = false;\n            L_DISABLE_3D = false;\n        &lt;/script&gt;\n    \n    &lt;style&gt;html, body {width: 100%;height: 100%;margin: 0;padding: 0;}&lt;/style&gt;\n    &lt;style&gt;#map {position:absolute;top:0;bottom:0;right:0;left:0;}&lt;/style&gt;\n    &lt;script src=&quot;https://cdn.jsdelivr.net/npm/leaflet@1.9.3/dist/leaflet.js&quot;&gt;&lt;/script&gt;\n    &lt;script src=&quot;https://code.jquery.com/jquery-3.7.1.min.js&quot;&gt;&lt;/script&gt;\n    &lt;script src=&quot;https://cdn.jsdelivr.net/npm/bootstrap@5.2.2/dist/js/bootstrap.bundle.min.js&quot;&gt;&lt;/script&gt;\n    &lt;script src=&quot;https://cdnjs.cloudflare.com/ajax/libs/Leaflet.awesome-markers/2.0.2/leaflet.awesome-markers.js&quot;&gt;&lt;/script&gt;\n    &lt;link rel=&quot;stylesheet&quot; href=&quot;https://cdn.jsdelivr.net/npm/leaflet@1.9.3/dist/leaflet.css&quot;/&gt;\n    &lt;link rel=&quot;stylesheet&quot; href=&quot;https://cdn.jsdelivr.net/npm/bootstrap@5.2.2/dist/css/bootstrap.min.css&quot;/&gt;\n    &lt;link rel=&quot;stylesheet&quot; href=&quot;https://netdna.bootstrapcdn.com/bootstrap/3.0.0/css/bootstrap.min.css&quot;/&gt;\n    &lt;link rel=&quot;stylesheet&quot; href=&quot;https://cdn.jsdelivr.net/npm/@fortawesome/fontawesome-free@6.2.0/css/all.min.css&quot;/&gt;\n    &lt;link rel=&quot;stylesheet&quot; href=&quot;https://cdnjs.cloudflare.com/ajax/libs/Leaflet.awesome-markers/2.0.2/leaflet.awesome-markers.css&quot;/&gt;\n    &lt;link rel=&quot;stylesheet&quot; href=&quot;https://cdn.jsdelivr.net/gh/python-visualization/folium/folium/templates/leaflet.awesome.rotate.min.css&quot;/&gt;\n    \n            &lt;meta name=&quot;viewport&quot; content=&quot;width=device-width,\n                initial-scale=1.0, maximum-scale=1.0, user-scalable=no&quot; /&gt;\n            &lt;style&gt;\n                #map_4e9770f13dfe5078079a7237459176b2 {\n                    position: relative;\n                    width: 100.0%;\n                    height: 100.0%;\n                    left: 0.0%;\n                    top: 0.0%;\n                }\n                .leaflet-container { font-size: 1rem; }\n            &lt;/style&gt;\n        \n    &lt;script src=&quot;https://cdnjs.cloudflare.com/ajax/libs/leaflet.markercluster/1.1.0/leaflet.markercluster.js&quot;&gt;&lt;/script&gt;\n    &lt;link rel=&quot;stylesheet&quot; href=&quot;https://cdnjs.cloudflare.com/ajax/libs/leaflet.markercluster/1.1.0/MarkerCluster.css&quot;/&gt;\n    &lt;link rel=&quot;stylesheet&quot; href=&quot;https://cdnjs.cloudflare.com/ajax/libs/leaflet.markercluster/1.1.0/MarkerCluster.Default.css&quot;/&gt;\n&lt;/head&gt;\n&lt;body&gt;\n    \n    \n            &lt;div class=&quot;folium-map&quot; id=&quot;map_4e9770f13dfe5078079a7237459176b2&quot; &gt;&lt;/div&gt;\n        \n&lt;/body&gt;\n&lt;script&gt;\n    \n    \n            var map_4e9770f13dfe5078079a7237459176b2 = L.map(\n                &quot;map_4e9770f13dfe5078079a7237459176b2&quot;,\n                {\n                    center: [-40.0, -71.0],\n                    crs: L.CRS.EPSG3857,\n                    zoom: 5,\n                    zoomControl: true,\n                    preferCanvas: false,\n                }\n            );\n\n            \n\n        \n    \n            var tile_layer_786b63f9210b35b6590fcf1e02afee85 = L.tileLayer(\n                &quot;https://tile.openstreetmap.org/{z}/{x}/{y}.png&quot;,\n                {&quot;attribution&quot;: &quot;\\u0026copy; \\u003ca href=\\&quot;https://www.openstreetmap.org/copyright\\&quot;\\u003eOpenStreetMap\\u003c/a\\u003e contributors&quot;, &quot;detectRetina&quot;: false, &quot;maxNativeZoom&quot;: 19, &quot;maxZoom&quot;: 19, &quot;minZoom&quot;: 0, &quot;noWrap&quot;: false, &quot;opacity&quot;: 1, &quot;subdomains&quot;: &quot;abc&quot;, &quot;tms&quot;: false}\n            );\n        \n    \n            tile_layer_786b63f9210b35b6590fcf1e02afee85.addTo(map_4e9770f13dfe5078079a7237459176b2);\n        \n    \n            var marker_cluster_635c1cad301141c5e9a36e4df5259786 = L.markerClusterGroup(\n                {}\n            );\n        \n    \n            var marker_a1f360c83fc777a149a5cd411232f115 = L.marker(\n                [-40.9256, -71.5151],\n                {}\n            ).addTo(marker_cluster_635c1cad301141c5e9a36e4df5259786);\n        \n    \n            var icon_1d9b547941641bd1067a0e377007ce6e = L.AwesomeMarkers.icon(\n                {&quot;extraClasses&quot;: &quot;fa-rotate-0&quot;, &quot;icon&quot;: &quot;leaf&quot;, &quot;iconColor&quot;: &quot;white&quot;, &quot;markerColor&quot;: &quot;green&quot;, &quot;prefix&quot;: &quot;glyphicon&quot;}\n            );\n            marker_a1f360c83fc777a149a5cd411232f115.setIcon(icon_1d9b547941641bd1067a0e377007ce6e);\n        \n    \n        var popup_8be7a73cb2a091401790406a760b0d80 = L.popup({&quot;maxWidth&quot;: &quot;100%&quot;});\n\n        \n            \n                var html_66ac0214cb21e7b100e7422691364591 = $(`&lt;div id=&quot;html_66ac0214cb21e7b100e7422691364591&quot; style=&quot;width: 100.0%; height: 100.0%;&quot;&gt;Popup text&lt;/div&gt;`)[0];\n                popup_8be7a73cb2a091401790406a760b0d80.setContent(html_66ac0214cb21e7b100e7422691364591);\n            \n        \n\n        marker_a1f360c83fc777a149a5cd411232f115.bindPopup(popup_8be7a73cb2a091401790406a760b0d80)\n        ;\n\n        \n    \n    \n            var marker_e0c3ade83cb78484df07b877130244b3 = L.marker(\n                [-39.95, -71.07],\n                {}\n            ).addTo(marker_cluster_635c1cad301141c5e9a36e4df5259786);\n        \n    \n            var icon_5a8a580bc59b2dcc95af8fbc29c7c77c = L.AwesomeMarkers.icon(\n                {&quot;extraClasses&quot;: &quot;fa-rotate-0&quot;, &quot;icon&quot;: &quot;leaf&quot;, &quot;iconColor&quot;: &quot;white&quot;, &quot;markerColor&quot;: &quot;green&quot;, &quot;prefix&quot;: &quot;glyphicon&quot;}\n            );\n            marker_e0c3ade83cb78484df07b877130244b3.setIcon(icon_5a8a580bc59b2dcc95af8fbc29c7c77c);\n        \n    \n        var popup_ff61b23924a8fea494a9ee245820bd2b = L.popup({&quot;maxWidth&quot;: &quot;100%&quot;});\n\n        \n            \n                var html_703303f3be0ac850e0c0e27343e70f76 = $(`&lt;div id=&quot;html_703303f3be0ac850e0c0e27343e70f76&quot; style=&quot;width: 100.0%; height: 100.0%;&quot;&gt;Popup text&lt;/div&gt;`)[0];\n                popup_ff61b23924a8fea494a9ee245820bd2b.setContent(html_703303f3be0ac850e0c0e27343e70f76);\n            \n        \n\n        marker_e0c3ade83cb78484df07b877130244b3.bindPopup(popup_ff61b23924a8fea494a9ee245820bd2b)\n        ;\n\n        \n    \n    \n            var marker_d97a4411ad571e35ebfe97595b140a72 = L.marker(\n                [-42.09, -71.61],\n                {}\n            ).addTo(marker_cluster_635c1cad301141c5e9a36e4df5259786);\n        \n    \n            var icon_391f53311ce403fb1e2806933619025d = L.AwesomeMarkers.icon(\n                {&quot;extraClasses&quot;: &quot;fa-rotate-0&quot;, &quot;icon&quot;: &quot;leaf&quot;, &quot;iconColor&quot;: &quot;white&quot;, &quot;markerColor&quot;: &quot;green&quot;, &quot;prefix&quot;: &quot;glyphicon&quot;}\n            );\n            marker_d97a4411ad571e35ebfe97595b140a72.setIcon(icon_391f53311ce403fb1e2806933619025d);\n        \n    \n        var popup_cd5dffad6aa70589c48547049d264e76 = L.popup({&quot;maxWidth&quot;: &quot;100%&quot;});\n\n        \n            \n                var html_d7dfde087616f342939451d7194f7715 = $(`&lt;div id=&quot;html_d7dfde087616f342939451d7194f7715&quot; style=&quot;width: 100.0%; height: 100.0%;&quot;&gt;Popup text&lt;/div&gt;`)[0];\n                popup_cd5dffad6aa70589c48547049d264e76.setContent(html_d7dfde087616f342939451d7194f7715);\n            \n        \n\n        marker_d97a4411ad571e35ebfe97595b140a72.bindPopup(popup_cd5dffad6aa70589c48547049d264e76)\n        ;\n\n        \n    \n    \n            var marker_1b40369e675bba50b54ab765f783a144 = L.marker(\n                [-40.78, -71.65],\n                {}\n            ).addTo(marker_cluster_635c1cad301141c5e9a36e4df5259786);\n        \n    \n            var icon_d3ccb846b19c68fd099d9772ab071830 = L.AwesomeMarkers.icon(\n                {&quot;extraClasses&quot;: &quot;fa-rotate-0&quot;, &quot;icon&quot;: &quot;leaf&quot;, &quot;iconColor&quot;: &quot;white&quot;, &quot;markerColor&quot;: &quot;green&quot;, &quot;prefix&quot;: &quot;glyphicon&quot;}\n            );\n            marker_1b40369e675bba50b54ab765f783a144.setIcon(icon_d3ccb846b19c68fd099d9772ab071830);\n        \n    \n        var popup_44ffcce0bc6e632a59db80c0c2e591a3 = L.popup({&quot;maxWidth&quot;: &quot;100%&quot;});\n\n        \n            \n                var html_1b896db83c3bb6e503c43d5a3ed2debd = $(`&lt;div id=&quot;html_1b896db83c3bb6e503c43d5a3ed2debd&quot; style=&quot;width: 100.0%; height: 100.0%;&quot;&gt;Popup text&lt;/div&gt;`)[0];\n                popup_44ffcce0bc6e632a59db80c0c2e591a3.setContent(html_1b896db83c3bb6e503c43d5a3ed2debd);\n            \n        \n\n        marker_1b40369e675bba50b54ab765f783a144.bindPopup(popup_44ffcce0bc6e632a59db80c0c2e591a3)\n        ;\n\n        \n    \n    \n            marker_cluster_635c1cad301141c5e9a36e4df5259786.addTo(map_4e9770f13dfe5078079a7237459176b2);\n        \n&lt;/script&gt;\n&lt;/html&gt;\" style=\"position:absolute;width:100%;height:100%;left:0;top:0;border:none !important;\" allowfullscreen webkitallowfullscreen mozallowfullscreen></iframe></div></div>"
     },
     "execution_count": 6,
     "metadata": {},
     "output_type": "execute_result"
    }
   ],
   "source": [
    "import folium\n",
    "from folium.plugins import MarkerCluster\n",
    "\n",
    "m = folium.Map(location=[-40, -71], zoom_start=5)\n",
    "\n",
    "marker_cluster = MarkerCluster().add_to(m)\n",
    "\n",
    "for p in parques:\n",
    "    folium.Marker(location=p, popup='Popup text', icon=folium.Icon(color='green', icon='leaf')).add_to(marker_cluster)\n",
    "\n",
    "m"
   ],
   "metadata": {
    "collapsed": false,
    "ExecuteTime": {
     "end_time": "2023-12-29T21:10:15.679351386Z",
     "start_time": "2023-12-29T21:10:15.667485520Z"
    }
   },
   "id": "22a89c1db234cde0"
  },
  {
   "cell_type": "code",
   "execution_count": null,
   "outputs": [],
   "source": [],
   "metadata": {
    "collapsed": false
   },
   "id": "42c2de03034d8bea"
  }
 ],
 "metadata": {
  "kernelspec": {
   "display_name": "Python 3",
   "language": "python",
   "name": "python3"
  },
  "language_info": {
   "codemirror_mode": {
    "name": "ipython",
    "version": 2
   },
   "file_extension": ".py",
   "mimetype": "text/x-python",
   "name": "python",
   "nbconvert_exporter": "python",
   "pygments_lexer": "ipython2",
   "version": "2.7.6"
  }
 },
 "nbformat": 4,
 "nbformat_minor": 5
}
